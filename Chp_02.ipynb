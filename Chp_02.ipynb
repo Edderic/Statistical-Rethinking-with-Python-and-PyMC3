{
 "cells": [
  {
   "cell_type": "code",
   "execution_count": 2,
   "metadata": {
    "collapsed": true
   },
   "outputs": [],
   "source": [
    "%matplotlib inline\n",
    "import pymc3 as pm\n",
    "import numpy as np\n",
    "import scipy.stats as stats\n",
    "import matplotlib.pyplot as plt\n",
    "import seaborn as sns; sns.set_palette('colorblind'); sns.set_color_codes()"
   ]
  },
  {
   "cell_type": "markdown",
   "metadata": {},
   "source": [
    "#### Code 2.1"
   ]
  },
  {
   "cell_type": "code",
   "execution_count": 3,
   "metadata": {},
   "outputs": [
    {
     "data": {
      "text/plain": [
       "array([ 0.  ,  0.15,  0.4 ,  0.45,  0.  ])"
      ]
     },
     "execution_count": 3,
     "metadata": {},
     "output_type": "execute_result"
    }
   ],
   "source": [
    "ways = np.array([0, 3, 8, 9, 0])\n",
    "ways/ways.sum()"
   ]
  },
  {
   "cell_type": "markdown",
   "metadata": {},
   "source": [
    "#### Code 2.2\n",
    "\n",
    "$$Pr(w|n, p) =  \\frac{n!}{w!(n − w)!} p^w (1 − p)^{n−w}$$\n",
    "\n",
    "\n",
    "The probability of observing six W’s in nine tosses—under a value of p=0.5"
   ]
  },
  {
   "cell_type": "code",
   "execution_count": 4,
   "metadata": {},
   "outputs": [
    {
     "data": {
      "text/plain": [
       "0.16406250000000006"
      ]
     },
     "execution_count": 4,
     "metadata": {},
     "output_type": "execute_result"
    }
   ],
   "source": [
    "stats.binom.pmf(6, n=9, p=0.5)"
   ]
  },
  {
   "cell_type": "markdown",
   "metadata": {},
   "source": [
    "#### Code 2.3 and 2.5\n",
    "\n",
    "Computing the posterior using a grid approximation.\n",
    "\n",
    "In the book the following code is not inside a function, but this way is easier to play with different parameters"
   ]
  },
  {
   "cell_type": "code",
   "execution_count": 10,
   "metadata": {},
   "outputs": [
    {
     "data": {
      "text/plain": [
       "array([ 0.  ,  0.25,  0.5 ,  0.75,  1.  ])"
      ]
     },
     "execution_count": 10,
     "metadata": {},
     "output_type": "execute_result"
    }
   ],
   "source": [
    "p_grid = np.linspace(0,1, 5)\n",
    "p_grid"
   ]
  },
  {
   "cell_type": "code",
   "execution_count": 18,
   "metadata": {},
   "outputs": [
    {
     "data": {
      "text/plain": [
       "array([5, 5, 5, 5, 5])"
      ]
     },
     "execution_count": 18,
     "metadata": {},
     "output_type": "execute_result"
    }
   ],
   "source": [
    "prior = np.repeat(5, 5)\n",
    "prior"
   ]
  },
  {
   "cell_type": "code",
   "execution_count": 13,
   "metadata": {},
   "outputs": [
    {
     "data": {
      "text/plain": [
       "array([ 0.        ,  0.00865173,  0.1640625 ,  0.2335968 ,  0.        ])"
      ]
     },
     "execution_count": 13,
     "metadata": {},
     "output_type": "execute_result"
    }
   ],
   "source": [
    "likelihood = stats.binom.pmf(6,9, p_grid)\n",
    "likelihood"
   ]
  },
  {
   "cell_type": "code",
   "execution_count": 19,
   "metadata": {},
   "outputs": [
    {
     "data": {
      "text/plain": [
       "array([ 0.        ,  0.04325867,  0.8203125 ,  1.16798401,  0.        ])"
      ]
     },
     "execution_count": 19,
     "metadata": {},
     "output_type": "execute_result"
    }
   ],
   "source": [
    "likelihood * prior"
   ]
  },
  {
   "cell_type": "code",
   "execution_count": 16,
   "metadata": {},
   "outputs": [
    {
     "data": {
      "text/plain": [
       "array([ 0.00865173])"
      ]
     },
     "execution_count": 16,
     "metadata": {},
     "output_type": "execute_result"
    }
   ],
   "source": [
    "stats.binom.pmf(6,9, [0.25])"
   ]
  },
  {
   "cell_type": "code",
   "execution_count": 27,
   "metadata": {
    "collapsed": true
   },
   "outputs": [],
   "source": [
    "def posterior_grid_approx(grid_points=5, success=6, tosses=9):\n",
    "    \"\"\"\n",
    "    \"\"\"\n",
    "    # define grid\n",
    "    p_grid = np.linspace(0, 1, grid_points)\n",
    "\n",
    "    # define prior\n",
    "    prior = np.repeat(5, grid_points)  # uniform\n",
    "    #prior = (p_grid >= 0.5).astype(int)  # truncated\n",
    "    #prior = np.exp(- 5 * abs(p_grid - 0.5))  # double exp\n",
    "\n",
    "    # compute likelihood at each point in the grid\n",
    "    # P(D|p=0), P(D|p=0.25), P(D|p=0.5), P(D|p=0.75), P(D|p=1.00)\n",
    "    likelihood = stats.binom.pmf(success, tosses, p_grid)\n",
    "\n",
    "    # compute product of likelihood and prior\n",
    "    unstd_posterior = likelihood * prior\n",
    "\n",
    "    # standardize the posterior, so it sums to 1\n",
    "    posterior = unstd_posterior / unstd_posterior.sum()\n",
    "    return p_grid, posterior"
   ]
  },
  {
   "cell_type": "markdown",
   "metadata": {},
   "source": [
    "#### Code 2.3"
   ]
  },
  {
   "cell_type": "code",
   "execution_count": 28,
   "metadata": {},
   "outputs": [
    {
     "data": {
      "image/png": "[encoded data removed]",
      "text/plain": [
       "<matplotlib.figure.Figure at 0x11b290a58>"
      ]
     },
     "metadata": {},
     "output_type": "display_data"
    }
   ],
   "source": [
    "points = 100\n",
    "w, n = 6, 9\n",
    "p_grid, posterior = posterior_grid_approx(points, w, n)\n",
    "plt.plot(p_grid, posterior, 'o-', label='success = {}\\ntosses = {}'.format(w, n))\n",
    "plt.xlabel('probability of water')\n",
    "plt.ylabel('posterior probability')\n",
    "plt.title('{} points'.format(points))\n",
    "plt.legend(loc=0);"
   ]
  },
  {
   "cell_type": "markdown",
   "metadata": {},
   "source": [
    "#### Code 2.6\n",
    "\n",
    "Computing the posterior using the quadratic aproximation"
   ]
  },
  {
   "cell_type": "code",
   "execution_count": 6,
   "metadata": {},
   "outputs": [
    {
     "data": {
      "text/plain": [
       "(array(0.6666666666399004), array([ 0.15713484]))"
      ]
     },
     "execution_count": 6,
     "metadata": {},
     "output_type": "execute_result"
    }
   ],
   "source": [
    "data = np.repeat((0, 1), (3, 6))\n",
    "with pm.Model() as normal_aproximation:\n",
    "    p = pm.Uniform('p', 0, 1, transform=None)\n",
    "    w = pm.Binomial('w', n=len(data), p=p, observed=data.sum())\n",
    "    mean_q = pm.find_MAP()\n",
    "    std_q = ((1/pm.find_hessian(mean_q))**0.5)[0]\n",
    "mean_q['p'], std_q"
   ]
  },
  {
   "cell_type": "code",
   "execution_count": 7,
   "metadata": {},
   "outputs": [
    {
     "data": {
      "text/plain": [
       "array([ 0.41553484,  0.91779849])"
      ]
     },
     "execution_count": 7,
     "metadata": {},
     "output_type": "execute_result"
    }
   ],
   "source": [
    "norm = stats.norm(mean_q, std_q)\n",
    "prob = .89\n",
    "z = stats.norm.ppf([(1-prob)/2, (1+prob)/2])\n",
    "pi = mean_q['p'] + std_q * z \n",
    "pi"
   ]
  },
  {
   "cell_type": "markdown",
   "metadata": {},
   "source": [
    "#### Code 2.7"
   ]
  },
  {
   "cell_type": "code",
   "execution_count": 8,
   "metadata": {},
   "outputs": [
    {
     "data": {
      "image/png": "[encoded data removed]",
      "text/plain": [
       "<matplotlib.figure.Figure at 0x7f00dd398518>"
      ]
     },
     "metadata": {},
     "output_type": "display_data"
    }
   ],
   "source": [
    "# analytical calculation\n",
    "w, n = 6, 9\n",
    "x = np.linspace(0, 1, 100)\n",
    "plt.plot(x, stats.beta.pdf(x , w+1, n-w+1), label='True posterior')\n",
    "# quadratic approximation\n",
    "plt.plot(x, stats.norm.pdf(x, mean_q['p'], std_q), label='Quadratic approximation')\n",
    "plt.legend(loc=0);"
   ]
  },
  {
   "cell_type": "code",
   "execution_count": 9,
   "metadata": {
    "scrolled": true
   },
   "outputs": [
    {
     "name": "stdout",
     "output_type": "stream",
     "text": [
      "This notebook was createad on a computer x86_64 running debian stretch/sid and using:\n",
      "Python 3.5.2\n",
      "IPython 5.0.0\n",
      "PyMC3 3.0\n",
      "NumPy 1.11.1\n",
      "SciPy 0.18.0\n",
      "Matplotlib 1.5.2\n",
      "Seaborn 0.7.1\n",
      "\n"
     ]
    }
   ],
   "source": [
    "import sys, IPython, scipy, matplotlib, platform\n",
    "print(\"This notebook was createad on a computer %s running %s and using:\\nPython %s\\nIPython %s\\nPyMC3 %s\\nNumPy %s\\nSciPy %s\\nMatplotlib %s\\nSeaborn %s\\n\" % (platform.machine(), ' '.join(platform.linux_distribution()[:2]), sys.version[:5], IPython.__version__, pm.__version__, np.__version__, scipy.__version__, matplotlib.__version__, sns.__version__))"
   ]
  },
  {
   "cell_type": "markdown",
   "metadata": {
    "collapsed": true
   },
   "source": [
    "# Practice Problems"
   ]
  },
  {
   "cell_type": "markdown",
   "metadata": {},
   "source": [
    "## 2E1. Which of the expressions below correspond to the statement: _the probability of rain on Monday_?\n",
    "\n",
    "(1) $Pr(rain)$\n",
    "* Nope. This is the averaged probability of rain. \n",
    "\n",
    "(2) $Pr(rain\\mid Monday)$\n",
    "* Yes. Given that it is Monday, what is the probability of rain?\n",
    "\n",
    "(3) $Pr(Monday \\mid rain)$\n",
    "* No. This is the probability of being Monday given that it is raining.\n",
    "\n",
    "(4) $Pr(rain, Monday) / Pr(Monday)$\n",
    "* Yes. This is equivalent to the second option."
   ]
  },
  {
   "cell_type": "markdown",
   "metadata": {},
   "source": [
    "## 2E2. Which of the expressions below correspond to the expression: $Pr(Monday \\mid rain)$?\n",
    "\n",
    "(1) The probability of rain on Monday.\n",
    "* No. This is $Pr(rain \\mid Monday)$.\n",
    "    \n",
    "(2) The probability of rain, given that it is Monday.\n",
    "* No. This is $Pr(rain \\mid Monday)$.\n",
    "    \n",
    "(3) The probability that it is Monday, given that it is raining.\n",
    "* Yes. This is $Pr(Monday \\mid rain)$.\n",
    "\n",
    "(4) The probability that it is Monday and that it is raining.\n",
    "* Yes. This is $Pr(Monday \\mid rain)$."
   ]
  },
  {
   "cell_type": "markdown",
   "metadata": {},
   "source": [
    "## 2E3. Which of the expressions below correspond to the statement:  _the probability that it is Monday, given that it is raining_?\n",
    "\n",
    "(1) $Pr(Monday \\mid rain)$\n",
    "* Yes. By definition.\n",
    "    \n",
    "(2) $Pr(rain \\mid Monday)$\n",
    "* No. This is probability of rain given that it is a Monday.\n",
    "    \n",
    "(3) $Pr(rain\\mid Monday)Pr(Monday)$\n",
    "* No. This is equivalent to $Pr(rain, Monday)$, or the probability that it is raining and it is Monday.\n",
    "\n",
    "(4) $Pr(rain\\mid Monday)Pr(Monday) / Pr(rain)$\n",
    "* This is equivalent to $Pr(rain, Monday) / Pr(rain)$, which then simplifies to $Pr(Monday \\mid rain)$. So yes.\n",
    "\n",
    "(5) $Pr(Monday \\mid rain)Pr(rain) / Pr(Monday)$\n",
    "* This simplifies to $Pr(Monday, rain) / Pr(Monday) = Pr(rain \\mid Monday)$, so nope."
   ]
  },
  {
   "cell_type": "code",
   "execution_count": null,
   "metadata": {
    "collapsed": true
   },
   "outputs": [],
   "source": []
  }
 ],
 "metadata": {
  "kernelspec": {
   "display_name": "Python 3",
   "language": "python",
   "name": "python3"
  },
  "language_info": {
   "codemirror_mode": {
    "name": "ipython",
    "version": 3
   },
   "file_extension": ".py",
   "mimetype": "text/x-python",
   "name": "python",
   "nbconvert_exporter": "python",
   "pygments_lexer": "ipython3",
   "version": "3.6.1"
  }
 },
 "nbformat": 4,
 "nbformat_minor": 1
}
